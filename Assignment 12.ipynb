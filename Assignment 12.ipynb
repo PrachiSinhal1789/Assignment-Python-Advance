{
 "cells": [
  {
   "cell_type": "markdown",
   "id": "53402f03",
   "metadata": {},
   "source": [
    "Q1. Does assigning a value to a string's indexed character violate Python's string immutability?\n",
    "\n",
    "Ans. Strings are not mutable. We can't modify the parts of a string by index.\n",
    "\n",
    "\n",
    "\n",
    "Q2. Does using the += operator to concatenate strings violate Python's string immutability? Why or why not?\n",
    "\n",
    "Ans.It violates the rules of how ID values and += are supposed to work - the ID values produced with the optimization in place would be not only impossible, but prohibited, with the unoptimized semantics.\n",
    "\n",
    "\n",
    "\n",
    "Q3. In Python, how many different ways are there to index a character?\n",
    "\n",
    "Ans.We can access characters in a String in two ways :\n",
    "Accessing Characters by Positive Index Number.\n",
    "Accessing Characters by Negative Index Number.\n",
    "\n",
    "\n",
    "Q4. What is the relationship between indexing and slicing?\n",
    "\n",
    "Ans.Indexing means referring to an element of an iterable by its position within the iterable.Slicing means getting a subset of elements from an iterable based on their indices\n",
    "\n",
    "\n",
    "Q5. What is an indexed character's exact data type? What is the data form of a slicing-generated substring?\n",
    "\n",
    "Ans. In both case it is string.\n",
    "\n",
    "\n",
    "Q6. What is the relationship between string and character \"types\" in Python?\n",
    "\n",
    "Ans.Strings in Python are arrays of bytes representing unicode characters. However, Python does not have a character data type, a single character is simply a string with a length of 1. Square brackets can be used to access elements of the string.\n",
    "\n",
    "\n",
    "\n",
    "Q7. Identify at least two operators and one method that allow you to combine one or more smaller strings to create a larger string.\n",
    "\n",
    "Ans + and += and \"\".join([str1,str2)\n",
    "\n",
    "\n",
    "\n",
    "Q8. What is the benefit of first checking the target string with in or not in before using the index method to find a substring?\n",
    "\n",
    "Ans. If the substring is not present then we get Value error: substring not found\n",
    "\n",
    "\n",
    "\n",
    "Q9. Which operators and built-in string methods produce simple Boolean (true/false) results?\n",
    "\n",
    "Ans.Built-in methods like isalpha(),isnumeric(),isdigit(),bool() and operators like ==,!= return True or False\n"
   ]
  }
 ],
 "metadata": {
  "kernelspec": {
   "display_name": "Python 3 (ipykernel)",
   "language": "python",
   "name": "python3"
  },
  "language_info": {
   "codemirror_mode": {
    "name": "ipython",
    "version": 3
   },
   "file_extension": ".py",
   "mimetype": "text/x-python",
   "name": "python",
   "nbconvert_exporter": "python",
   "pygments_lexer": "ipython3",
   "version": "3.9.12"
  }
 },
 "nbformat": 4,
 "nbformat_minor": 5
}
