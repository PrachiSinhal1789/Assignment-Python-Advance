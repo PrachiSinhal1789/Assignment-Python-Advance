{
 "cells": [
  {
   "cell_type": "markdown",
   "id": "a0ff6744",
   "metadata": {},
   "source": [
    "Q1. What is the benefit of regular expressions?\n",
    "\n",
    "Ans.Regular expressions are useful in any scenario that benefits from full or partial pattern match on strings. These are some of the common use cases: verify the structure of strings. extract substrings form structured strings.\n",
    "\n",
    "\n",
    "\n",
    "Q2. Describe the difference between the effects of \"(ab)c+\" and \"a(bc)+.\" Which of these, if any, is the unqualified pattern \"abc+\"?\n",
    "\n",
    "Ans.\n",
    "(ab)c+ looks for strings like abc,abcc,abccc where c repeats\n",
    "a(bc)+ looks for abc,abcbc,abcbcbc where bc repeats\n",
    "\n",
    "\n",
    "Q3. How much do you need to use the following sentence while using regular expressions?\n",
    "import re\n",
    "\n",
    "Ans.Only one time\n",
    "\n",
    "\n",
    "Q4. Which characters have special significance in square brackets when expressing a range, and under what circumstances?\n",
    "\n",
    "Ans.You can also specify a range of characters using - inside square brackets. You can complement (invert) the character set by using caret ^ symbol at the start of a square-bracket. [^abc] means any character except a or b or c. [^0-9] means any non-digit character.\n",
    "\n",
    "\n",
    "Q5. How does compiling a regular-expression object benefit you?\n",
    "\n",
    "Ans.compile(pattern, repl, string): We can combine a regular expression pattern into pattern objects, which can be used for pattern matching. It also helps to search a pattern again without rewriting it.\n",
    "\n",
    "\n",
    "\n",
    "Q6. What are some examples of how to use the match object returned by re.match and re.search?\n",
    "\n",
    "There is a difference between the use of both functions. Both return the first match of a substring found in the string, but re.match() searches only from the beginning of the string and return match object if found. But if a match of substring is found somewhere in the middle of the string, it returns none. \n",
    "While re.search() searches for the whole string even if the string contains multi-lines and tries to find a match of the substring in all the lines of string."
   ]
  },
  {
   "cell_type": "code",
   "execution_count": 4,
   "id": "ba21ae59",
   "metadata": {
    "scrolled": true
   },
   "outputs": [
    {
     "name": "stdout",
     "output_type": "stream",
     "text": [
      "<re.Match object; span=(10, 14), match='Data'>\n",
      "None\n"
     ]
    }
   ],
   "source": [
    "import re\n",
    "data='Hi I am a Data Science student.Krish and Sudhanshu sir are teaching data science.They are data science experts.'\n",
    "s='data'\n",
    "print(re.search(s,data,re.IGNORECASE))\n",
    "print(re.match(s,data,re.IGNORECASE))"
   ]
  },
  {
   "cell_type": "markdown",
   "id": "dadb6e9d",
   "metadata": {},
   "source": [
    "Q7. What is the difference between using a vertical bar (|) as an alteration and using square brackets as a character set?\n",
    "\n",
    "Ans.The vertical bar is a regex \"or\" means \"p or v\"\n",
    "'[p|v]'\n",
    "\n",
    "Square brackets are a character class meaning \"any character from p to v.\n",
    "'[p-v]'\n",
    "\n",
    "Q8. In regular-expression search patterns, why is it necessary to use the raw-string indicator (r)? In   replacement strings?\n",
    "\n",
    "Ans.Python raw string treats the backslash character (\\) as a literal character. Raw string is useful when a string needs to contain a backslash, such as for a regular expression or Windows directory path, and you don't want it to be treated as an escape character.\n"
   ]
  }
 ],
 "metadata": {
  "kernelspec": {
   "display_name": "Python 3 (ipykernel)",
   "language": "python",
   "name": "python3"
  },
  "language_info": {
   "codemirror_mode": {
    "name": "ipython",
    "version": 3
   },
   "file_extension": ".py",
   "mimetype": "text/x-python",
   "name": "python",
   "nbconvert_exporter": "python",
   "pygments_lexer": "ipython3",
   "version": "3.9.12"
  }
 },
 "nbformat": 4,
 "nbformat_minor": 5
}
