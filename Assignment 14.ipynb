{
 "cells": [
  {
   "cell_type": "markdown",
   "id": "8e928464",
   "metadata": {},
   "source": [
    "Q1. Is an assignment operator like += only for show? Is it possible that it would lead to faster results at the runtime?\n",
    "\n",
    "Ans.Yes += takes smaller run time"
   ]
  },
  {
   "cell_type": "code",
   "execution_count": 5,
   "id": "acc37175",
   "metadata": {},
   "outputs": [
    {
     "data": {
      "text/plain": [
       "0.0010023117065429688"
      ]
     },
     "execution_count": 5,
     "metadata": {},
     "output_type": "execute_result"
    }
   ],
   "source": [
    "import time\n",
    "s=time.time()\n",
    "a=0\n",
    "a=a+1\n",
    "time.time()-s"
   ]
  },
  {
   "cell_type": "code",
   "execution_count": 10,
   "id": "65378c4a",
   "metadata": {},
   "outputs": [
    {
     "data": {
      "text/plain": [
       "0.000911712646484375"
      ]
     },
     "execution_count": 10,
     "metadata": {},
     "output_type": "execute_result"
    }
   ],
   "source": [
    "import time\n",
    "s=time.time()\n",
    "a=0\n",
    "a+=1\n",
    "time.time()-s"
   ]
  },
  {
   "cell_type": "markdown",
   "id": "ce7a1e70",
   "metadata": {},
   "source": [
    "Q2. What is the smallest number of statements you'd have to write in most programming languages to replace the Python expression a, b = a + b, a?\n",
    "\n",
    "Ans. Atleast two\n",
    "a=a+b\n",
    "b=a"
   ]
  },
  {
   "cell_type": "code",
   "execution_count": 16,
   "id": "598adcb2",
   "metadata": {},
   "outputs": [
    {
     "data": {
      "text/plain": [
       "array([0., 0., 0., 0., 0., 0., 0., 0., 0., 0., 0., 0., 0., 0., 0., 0., 0.,\n",
       "       0., 0., 0., 0., 0., 0., 0., 0., 0., 0., 0., 0., 0., 0., 0., 0., 0.,\n",
       "       0., 0., 0., 0., 0., 0., 0., 0., 0., 0., 0., 0., 0., 0., 0., 0., 0.,\n",
       "       0., 0., 0., 0., 0., 0., 0., 0., 0., 0., 0., 0., 0., 0., 0., 0., 0.,\n",
       "       0., 0., 0., 0., 0., 0., 0., 0., 0., 0., 0., 0., 0., 0., 0., 0., 0.,\n",
       "       0., 0., 0., 0., 0., 0., 0., 0., 0., 0., 0., 0., 0., 0., 0.])"
      ]
     },
     "execution_count": 16,
     "metadata": {},
     "output_type": "execute_result"
    }
   ],
   "source": [
    "#Q3. In Python, what is the most effective way to set a list of 100 integers to 0?\n",
    "\n",
    "import numpy as np\n",
    "np.zeros(100)"
   ]
  },
  {
   "cell_type": "markdown",
   "id": "a24ef809",
   "metadata": {},
   "source": [
    "#Q4. What is the most effective way to initialise a list of 99 integers that repeats the sequence 1, 2, 3? S If necessary, show step-by-step instructions on how to accomplish this."
   ]
  },
  {
   "cell_type": "code",
   "execution_count": 20,
   "id": "d735a530",
   "metadata": {
    "collapsed": true
   },
   "outputs": [
    {
     "data": {
      "text/plain": [
       "[1,\n",
       " 2,\n",
       " 3,\n",
       " 1,\n",
       " 2,\n",
       " 3,\n",
       " 1,\n",
       " 2,\n",
       " 3,\n",
       " 1,\n",
       " 2,\n",
       " 3,\n",
       " 1,\n",
       " 2,\n",
       " 3,\n",
       " 1,\n",
       " 2,\n",
       " 3,\n",
       " 1,\n",
       " 2,\n",
       " 3,\n",
       " 1,\n",
       " 2,\n",
       " 3,\n",
       " 1,\n",
       " 2,\n",
       " 3,\n",
       " 1,\n",
       " 2,\n",
       " 3,\n",
       " 1,\n",
       " 2,\n",
       " 3,\n",
       " 1,\n",
       " 2,\n",
       " 3,\n",
       " 1,\n",
       " 2,\n",
       " 3,\n",
       " 1,\n",
       " 2,\n",
       " 3,\n",
       " 1,\n",
       " 2,\n",
       " 3,\n",
       " 1,\n",
       " 2,\n",
       " 3,\n",
       " 1,\n",
       " 2,\n",
       " 3,\n",
       " 1,\n",
       " 2,\n",
       " 3,\n",
       " 1,\n",
       " 2,\n",
       " 3,\n",
       " 1,\n",
       " 2,\n",
       " 3,\n",
       " 1,\n",
       " 2,\n",
       " 3,\n",
       " 1,\n",
       " 2,\n",
       " 3,\n",
       " 1,\n",
       " 2,\n",
       " 3,\n",
       " 1,\n",
       " 2,\n",
       " 3,\n",
       " 1,\n",
       " 2,\n",
       " 3,\n",
       " 1,\n",
       " 2,\n",
       " 3,\n",
       " 1,\n",
       " 2,\n",
       " 3,\n",
       " 1,\n",
       " 2,\n",
       " 3,\n",
       " 1,\n",
       " 2,\n",
       " 3,\n",
       " 1,\n",
       " 2,\n",
       " 3,\n",
       " 1,\n",
       " 2,\n",
       " 3,\n",
       " 1,\n",
       " 2,\n",
       " 3,\n",
       " 1,\n",
       " 2,\n",
       " 3]"
      ]
     },
     "execution_count": 20,
     "metadata": {},
     "output_type": "execute_result"
    }
   ],
   "source": [
    "l=[]\n",
    "a=[1,2,3]\n",
    "for i in range(33):\n",
    "    l.extend(a)\n",
    "l"
   ]
  },
  {
   "cell_type": "code",
   "execution_count": 21,
   "id": "6046dd24",
   "metadata": {},
   "outputs": [
    {
     "name": "stdout",
     "output_type": "stream",
     "text": [
      "[2, 4, 6, 8, 10]\n",
      "[3, 6, 9, 12, 15]\n",
      "[4, 8, 12, 16, 20]\n"
     ]
    }
   ],
   "source": [
    "#Q5. If you're using IDLE to run a Python application, explain how to print a multidimensional list as efficiently?\n",
    "\n",
    "a = [[2, 4, 6, 8, 10], [3, 6, 9, 12, 15], [4, 8, 12, 16, 20]]\n",
    "for i in a:\n",
    "    print(i)"
   ]
  },
  {
   "cell_type": "code",
   "execution_count": 22,
   "id": "3d1f3167",
   "metadata": {},
   "outputs": [
    {
     "name": "stdout",
     "output_type": "stream",
     "text": [
      "['Ram', 'Mohan']\n"
     ]
    }
   ],
   "source": [
    "#Q6. Is it possible to use list comprehension with a string? If so, how can you go about doing it?\n",
    "\n",
    "#Ans.\n",
    "names = ['Steve', 'Bill', 'Ram', 'Mohan', 'Abdul']\n",
    "names2 = [s for s in names if 'a' in s]\n",
    "print(names2)"
   ]
  },
  {
   "cell_type": "markdown",
   "id": "6d0c738c",
   "metadata": {},
   "source": [
    "Q7. From the command line, how do you get support with a user-written Python programme? Is this possible from inside IDLE?\n",
    "\n",
    "Ans.\n",
    "IDLE is the Python environment we will be using. ...\n",
    "The IDLE shell window opens up. ...\n",
    "Opening up a new window will create a script file window. ...\n",
    "You can run the script by going \"Run --> Run Module\" or simply by hitting F5 (on some systems, Fn + F5).\n",
    "Before running, IDLE prompts you to save the script as a file."
   ]
  },
  {
   "cell_type": "markdown",
   "id": "edf25302",
   "metadata": {},
   "source": [
    "Q8. Functions are said to be “first-class objects” in Python but not in most other languages, such as C++ or Java. What can you do in Python with a function (callable object) that you can't do in C or C++?\n",
    "\n",
    "In general, a callable is something that can be called. This built-in method in Python checks and returns True if the object passed appears to be callable, but may not be, otherwise False.\n",
    "Syntax:\n",
    "\n",
    "callable(object)\n",
    "The callable() method takes only one argument, an object and returns one of the two values:\n",
    "\n",
    "returns True, if the object appears to be callable.\n",
    "returns False, if the object is not callable.\n",
    "There may be few cases where callable() returns true, but the call to object fails. But if a case returns False, calling object will never succeed.\n",
    "\n",
    "def Geek():\n",
    "    return 5\n",
    "  \n",
    "#an object is created of Geek()\n",
    "let = Geek\n",
    "print(callable(let))\n",
    "  \n",
    "#a test variable\n",
    "num = 5 * 5\n",
    "print(callable(num))\n",
    "Output:\n",
    "\n",
    "True\n",
    "False\n"
   ]
  },
  {
   "cell_type": "markdown",
   "id": "8941cafe",
   "metadata": {},
   "source": [
    "Q9. How do you distinguish between a wrapper, a wrapped feature, and a decorator?\n",
    "\n",
    "Wrappers around the functions are also knows as decorators which are a very powerful and useful tool in Python since it allows programmers to modify the behavior of function or class. Decorators allow us to wrap another function in order to extend the behavior of the wrapped function, without permanently modifying it."
   ]
  },
  {
   "cell_type": "markdown",
   "id": "75724802",
   "metadata": {},
   "source": [
    "Q10. If a function is a generator function, what does it return?\n",
    "\n",
    "In Python, a generator is a function that returns an iterator that produces a sequence of values when iterated over."
   ]
  },
  {
   "cell_type": "markdown",
   "id": "d2b273f5",
   "metadata": {},
   "source": [
    "Q11. What is the one improvement that must be made to a function in order for it to become a generator function in the Python language?\n",
    "\n",
    "In Python, similar to defining a normal function, we can define a generator function using the def keyword, but instead of the return statement we use the yield statement. Here, the yield keyword is used to produce a value from the generator."
   ]
  },
  {
   "cell_type": "markdown",
   "id": "551f2080",
   "metadata": {},
   "source": [
    "Q12. Identify at least one benefit of generators.\n",
    "\n",
    "Memory efficient method of generating sequence types in python.\n",
    "Adds further brevity and readability to written code. Generator expressions are generator functions shortened.\n",
    "Time-efficient when compared to list comparisons."
   ]
  }
 ],
 "metadata": {
  "kernelspec": {
   "display_name": "Python 3 (ipykernel)",
   "language": "python",
   "name": "python3"
  },
  "language_info": {
   "codemirror_mode": {
    "name": "ipython",
    "version": 3
   },
   "file_extension": ".py",
   "mimetype": "text/x-python",
   "name": "python",
   "nbconvert_exporter": "python",
   "pygments_lexer": "ipython3",
   "version": "3.9.12"
  }
 },
 "nbformat": 4,
 "nbformat_minor": 5
}
