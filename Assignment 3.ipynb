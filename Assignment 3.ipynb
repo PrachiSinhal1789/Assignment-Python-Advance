{
 "cells": [
  {
   "cell_type": "markdown",
   "id": "e164ca55",
   "metadata": {},
   "source": [
    "1. What is the concept of an abstract superclass?\n",
    "\n",
    "Ans. Abstract superclass means defining the class but not writing any code inside it, after finalising the code it can be implemented within this superclass.\n",
    "\n",
    "\n",
    "\n",
    "2. What happens when a class statement's top level contains a basic assignment statement?\n",
    "\n",
    "Ans. The attribute assigned in top level can be used anywhere within the class.\n",
    "\n",
    "\n",
    "\n",
    "3. Why does a class need to manually call a superclass's __init__ method?\n",
    "\n",
    "Ans. Because it helps in initialising the superclass variables, if it wont be called manually then super class variables wont be defined and the code cant be executed.\n",
    "\n",
    "\n",
    "\n",
    "4. How can you augment, instead of completely replacing, an inherited method?\n",
    "\n",
    "Ans.We can use multiple inheritance.\n",
    "\n",
    "\n",
    "5. How is the local scope of a class different from that of a function?\n",
    "\n",
    "Ans. Variable defined within a function can be used only within that function but variable in the local scope of class can be used within different methods inside that class and can be accessed outside the class using class object."
   ]
  }
 ],
 "metadata": {
  "kernelspec": {
   "display_name": "Python 3 (ipykernel)",
   "language": "python",
   "name": "python3"
  },
  "language_info": {
   "codemirror_mode": {
    "name": "ipython",
    "version": 3
   },
   "file_extension": ".py",
   "mimetype": "text/x-python",
   "name": "python",
   "nbconvert_exporter": "python",
   "pygments_lexer": "ipython3",
   "version": "3.9.12"
  }
 },
 "nbformat": 4,
 "nbformat_minor": 5
}
