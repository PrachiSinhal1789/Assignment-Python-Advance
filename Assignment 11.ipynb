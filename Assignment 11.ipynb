{
 "cells": [
  {
   "cell_type": "markdown",
   "id": "e9feddbd",
   "metadata": {},
   "source": [
    "Q1. What is the concept of a metaclass?\n",
    "\n",
    "Ans.In object-oriented programming, a metaclass is a class whose instances are classes. Just as an ordinary class defines the behavior of certain objects, a metaclass defines the behavior of certain classes and their instances.\n",
    "\n",
    "\n",
    "\n",
    "Q2. What is the best way to declare a class's metaclass?\n",
    "\n",
    "Ans.When defining a class and no metaclass is defined the default type metaclass will be used. If a metaclass is given and it is not an instance of type() , then it is used directly as the metaclass.\n",
    "\n",
    "\n",
    "\n",
    "Q3. How do class decorators overlap with metaclasses for handling classes?\n",
    "\n",
    "Ans.Decorators essentially automate the prior example's manual name rebinding here. Just like with metaclasses, because the decorator returns the original class, instances are made from it, not from a wrapper object. In fact, instance creation is not intercepted at all.\n",
    "\n",
    "\n",
    "Q4. How do class decorators overlap with metaclasses for handling instances?\n",
    "\n",
    "Ans.Decorators essentially automate the prior example's manual name rebinding here. Just like with metaclasses, because the decorator returns the original class, instances are made from it, not from a wrapper object. In fact, instance creation is not intercepted at all.\n"
   ]
  }
 ],
 "metadata": {
  "kernelspec": {
   "display_name": "Python 3 (ipykernel)",
   "language": "python",
   "name": "python3"
  },
  "language_info": {
   "codemirror_mode": {
    "name": "ipython",
    "version": 3
   },
   "file_extension": ".py",
   "mimetype": "text/x-python",
   "name": "python",
   "nbconvert_exporter": "python",
   "pygments_lexer": "ipython3",
   "version": "3.9.12"
  }
 },
 "nbformat": 4,
 "nbformat_minor": 5
}
