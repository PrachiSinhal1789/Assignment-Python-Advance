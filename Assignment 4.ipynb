{
 "cells": [
  {
   "cell_type": "markdown",
   "id": "590cc032",
   "metadata": {},
   "source": [
    "Q1. Which two operator overloading methods can you use in your classes to support iteration?\n",
    "\n",
    "Ans. Iteration Overloading Methods in Python\n",
    "The __iter__ returns the iterator object and is implicitly called at the start of loops. The __next__ method returns the next value and is implicitly called at each loop increment. __next__ raises a StopIteration exception when there are no more value to return, which is implicitly captured by looping constructs to stop iterating.\n",
    "class Counter:\n",
    "    def __init__(self, low, high):\n",
    "        self.current = low\n",
    "        self.high = high\n",
    " \n",
    "    def __iter__(self):\n",
    "        return self\n",
    " \n",
    "    def __next__(self):\n",
    "        if self.current > self.high:\n",
    "            raise StopIteration\n",
    "        else:\n",
    "            self.current += 1\n",
    "            return self.current - 1\n",
    " \n",
    " \n",
    "for num in Counter(5, 15):\n",
    "    print(num)\n",
    " \n",
    "output:\n",
    "5\n",
    "6\n",
    ".\n",
    ".\n",
    "15\n",
    "\n",
    "\n",
    "\n",
    "Q2. In what contexts do the two operator overloading methods manage printing?\n",
    "\n",
    "Ans. The + operator will perform arithmetic addition on two numbers, merge two lists, or concatenate two strings.\n",
    "This feature in Python that allows the same operator to have different meaning according to the context is called operator overloading.\n",
    "\n",
    "Q3. In a class, how do you intercept slice operations?\n",
    "\n",
    "Ans. Using __setitm__ and __getitem__\n",
    "\n",
    "\n",
    "\n",
    "Q4. In a class, how do you capture in-place addition?\n",
    "\n",
    "Ans. We will import the operator module and then use operator.iadd(),operator.isub()\n",
    "\n",
    "\n",
    "\n",
    "Q5. When is it appropriate to use operator overloading?\n",
    "\n",
    "Ans. We can use it when we are dealing with different data types eg. we can use + operator to mathematically add 2 nos or to concatenate 2 strings\n"
   ]
  }
 ],
 "metadata": {
  "kernelspec": {
   "display_name": "Python 3 (ipykernel)",
   "language": "python",
   "name": "python3"
  },
  "language_info": {
   "codemirror_mode": {
    "name": "ipython",
    "version": 3
   },
   "file_extension": ".py",
   "mimetype": "text/x-python",
   "name": "python",
   "nbconvert_exporter": "python",
   "pygments_lexer": "ipython3",
   "version": "3.9.12"
  }
 },
 "nbformat": 4,
 "nbformat_minor": 5
}
