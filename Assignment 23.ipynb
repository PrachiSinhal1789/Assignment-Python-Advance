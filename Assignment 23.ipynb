{
 "cells": [
  {
   "cell_type": "markdown",
   "id": "88d2a467",
   "metadata": {},
   "source": [
    "Q1. If you have any, what are your choices for increasing the comparison between different figures on the same graph?\n",
    "\n",
    "Ans.Use df.scatter_matrix()  or  sns.pairplot(df)\n",
    "\n",
    "\n",
    "Q2. Can you explain the benefit of compound interest over a higher rate of interest that does not compound after reading this chapter?\n",
    "\n",
    "Ans.Compound interest makes your money grow faster because interest is calculated on the accumulated interest over time as well as on your original principal.\n",
    "\n",
    "\n",
    "\n",
    "Q3. What is a histogram, exactly? Name a numpy method for creating such a graph.\n",
    "\n",
    "Ans.A histogram is a display of statistical information that uses rectangles to show the frequency of data items in successive numerical intervals of equal size. In the most common form of histogram, the independent variable is plotted along the horizontal axis and the dependent variable is plotted along the vertical axis.\n",
    "numpy.histogram(df['sepal_length'])\n",
    "\n",
    "\n",
    "\n",
    "Q4. If necessary, how do you change the aspect ratios between the X and Y axes?\n",
    "\n",
    "Ans.\n",
    "Using set_aspect()\n",
    "\n",
    "\n",
    "Q5. Compare and contrast the three types of array multiplication between two numpy arrays: dot product, outer product, and regular multiplication of two numpy arrays.\n",
    "\n",
    "Ans. Dot product is element wise multiplication\n",
    "     Outer product is multiplication of every element of 1st array one by one with that of every element of 2nd array.\n",
    "     Regular multiplication is the matrix multiplication.\n",
    "\n",
    "\n",
    "\n",
    "Q6. Before you buy a home, which numpy function will you use to measure your monthly mortgage payment?\n",
    "\n",
    "Ans.\n",
    "numpy.pmt(rate, nper, pv, fv=0, when='end')\n",
    "rate:\tRate of interest (per period) ,array_like\tRequired\n",
    "nper:\tNumber of compounding periods,array_like\tRequired\n",
    "pv: \tPresent value,array_like\t                Required\n",
    "fv: \tFuture value (default = 0),array_like\t    Optional\n",
    "when:\tWhen payments are due ('begin' (1) or 'end' (0)),{{'begin', 1}, {'end', 0}}, {string, int}  Required\n",
    "\n",
    "\n",
    "Q7. Can string data be stored in numpy arrays? If so, list at least one restriction that applies to this data.\n",
    "\n",
    "Ans. Yes it can be stored.\n",
    "New string which is appended cannot be of length greater than that of longest string previously present in the array.\n"
   ]
  }
 ],
 "metadata": {
  "kernelspec": {
   "display_name": "Python 3 (ipykernel)",
   "language": "python",
   "name": "python3"
  },
  "language_info": {
   "codemirror_mode": {
    "name": "ipython",
    "version": 3
   },
   "file_extension": ".py",
   "mimetype": "text/x-python",
   "name": "python",
   "nbconvert_exporter": "python",
   "pygments_lexer": "ipython3",
   "version": "3.9.12"
  }
 },
 "nbformat": 4,
 "nbformat_minor": 5
}
